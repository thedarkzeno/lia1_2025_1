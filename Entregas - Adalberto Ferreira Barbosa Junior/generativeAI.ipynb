{
 "cells": [
  {
   "cell_type": "markdown",
   "metadata": {},
   "source": [
    "# Agentes\n",
    "Aluno: Adalberto Ferreira Barbosa Junior\n",
    "\n",
    "Matrícula: 201905439\n",
    "\n",
    "---"
   ]
  },
  {
   "cell_type": "code",
   "execution_count": 1,
   "metadata": {},
   "outputs": [],
   "source": [
    "from dotenv import load_dotenv\n",
    "import os\n",
    "from google import genai\n",
    "from pydantic import BaseModel\n",
    "from typing import Optional\n"
   ]
  },
  {
   "cell_type": "code",
   "execution_count": 3,
   "metadata": {},
   "outputs": [],
   "source": [
    "load_dotenv()\n",
    "client =genai.Client(api_key=os.getenv(\"GOOGLE_API_KEY\"))\n"
   ]
  },
  {
   "cell_type": "code",
   "execution_count": 4,
   "metadata": {},
   "outputs": [],
   "source": []
  },
  {
   "cell_type": "markdown",
   "metadata": {},
   "source": [
    "## Define função para gerar respostas estruturadas"
   ]
  },
  {
   "cell_type": "code",
   "execution_count": null,
   "metadata": {},
   "outputs": [
    {
     "name": "stdout",
     "output_type": "stream",
     "text": [
      "{\n",
      "  \"recipe_name\": \"Bolo de Chocolate Cremoso\",\n",
      "  \"ingredients\": [\n",
      "    \"2 xícaras de farinha de trigo\",\n",
      "    \"1 xícara de chocolate em pó\",\n",
      "    \"2 xícaras de açúcar\",\n",
      "    \"1 colher de sopa de fermento em pó\",\n",
      "    \"1 xícara de óleo\",\n",
      "    \"4 ovos\",\n",
      "    \"1 xícara de água quente\",\n",
      "    \"1 pitada de sal\",\n",
      "    \"Cobertura: 1 lata de leite condensado, 1 colher de sopa de manteiga, 4 colheres de sopa de chocolate em pó\"\n",
      "  ]\n",
      "}\n"
     ]
    }
   ],
   "source": [
    "def gerar_resposta_gemini(prompt: str,  structure: Optional[BaseModel] = None, model: str = \"gemini-2.0-flash\") -> str:\n",
    "    # client = genai.Client.GenerativeModel(\"gemini-2.0-flash\")\n",
    "    if structure:\n",
    "        response = client.models.generate_content(model=\"gemini-2.0-flash\",\n",
    "                                                  contents=prompt,\n",
    "                                      config={\n",
    "            \"response_mime_type\": \"application/json\",\n",
    "            \"response_schema\": structure,\n",
    "        },)\n",
    "    else:\n",
    "        response = client.models.generate_content(prompt)\n",
    "    return response\n",
    "\n",
    "\n",
    "# Exemplo de uso\n",
    "class Recipe(BaseModel):\n",
    "    recipe_name: str\n",
    "    ingredients: list[str]\n",
    "    \n",
    "print(gerar_resposta_gemini(\"Gere uma receita de bolo de chocolate\", Recipe).text.strip())\n"
   ]
  },
  {
   "cell_type": "markdown",
   "metadata": {},
   "source": [
    "## Vamos definir as estruturas necessárias"
   ]
  },
  {
   "cell_type": "code",
   "execution_count": 11,
   "metadata": {},
   "outputs": [
    {
     "name": "stdout",
     "output_type": "stream",
     "text": [
      "nome='Elara Meadowlight' idade=27 genero='Feminino' localizacao='Floresta Élfica de Silverwood' objetivo='Proteger a floresta da corrupção crescente da Necromancia' habilidades=['Arquearia Élfica', 'Cura da Natureza', 'Comunicação com Animais', 'Furtividade'] fraquezas=['Ferro Frio', 'Magia Negra', 'Confiança Excessiva em Sua Bondade', 'Ingênua'] classe='Guardiã da Floresta' cidade_de_origgem='Silverwood'\n"
     ]
    }
   ],
   "source": [
    "class Personagem(BaseModel):\n",
    "    nome: str\n",
    "    idade: int\n",
    "    genero: str\n",
    "    localizacao: str\n",
    "    objetivo: str\n",
    "    habilidades: list[str]\n",
    "    fraquezas: list[str]\n",
    "    classe: str\n",
    "    cidade_de_origgem: str\n",
    "\n",
    "response = gerar_resposta_gemini(\"Gere um personagem para um jogo de RPG\", Personagem)\n",
    "# Use instantiated objects.\n",
    "personagem: list[Personagem] = response.parsed\n",
    "print(personagem)"
   ]
  },
  {
   "cell_type": "code",
   "execution_count": 13,
   "metadata": {},
   "outputs": [
    {
     "name": "stdout",
     "output_type": "stream",
     "text": [
      "historia='Elara Meadowlight, uma Guardiã da Floresta de 27 anos, personifica a beleza serena e a força indomável de Silverwood. Desde tenra idade, seus cabelos cor de mel e olhos verdes vibrantes refletiam a própria essência da floresta que ela jurou proteger. Treinada nas antigas tradições élficas de arquearia, Elara se tornou uma mestre arqueira, suas flechas encontrando o alvo com precisão infalível. Sua conexão com a natureza se estendia além do combate; ela possuía o dom da Cura da Natureza, capaz de curar ferimentos e restaurar a vitalidade da terra, e se comunicava fluentemente com os animais, seus leais aliados na defesa da floresta.\\n\\nCrescendo em harmonia com o sussurro das árvores e o murmúrio dos rios, Elara desenvolveu uma profunda fé na bondade inerente a todas as criaturas. Essa confiança, entretanto, era tanto uma força quanto uma fraqueza. Sua ingenuidade a deixava vulnerável à manipulação, e sua aversão ao derramamento de sangue a impedia de tomar decisões difíceis. Além disso, como muitos de seu povo, Elara sofria com a mera presença de Ferro Frio, que enfraquecia seus poderes e a deixava fisicamente debilitada.\\n\\nRecentemente, uma sombra sinistra começou a se espalhar por Silverwood: a corrupção da Necromancia. Criaturas antes pacíficas foram retorcidas em horrores profanos, e a terra fértil começou a apodrecer sob a influência maligna da Magia Negra. O objetivo de Elara tornou-se claro: proteger Silverwood da crescente ameaça necromântica a todo custo. Sua jornada a levará a confrontar necromantes sombrios, desvendar segredos antigos e testar os limites de sua fé, força e lealdade. Elara precisará superar sua ingenuidade e aprender a fazer escolhas difíceis se quiser salvar a floresta que ama, mesmo que isso signifique sujar suas mãos com o sangue daqueles que antes eram parte da beleza de Silverwood.'\n"
     ]
    }
   ],
   "source": [
    "class Historia(BaseModel):\n",
    "    historia: str\n",
    "\n",
    "response = gerar_resposta_gemini(f\"\"\"Gere uma história para o personagem de RPG com nome: {personagem.nome}.\n",
    "Ele é um {personagem.classe} que mora em {personagem.cidade_de_origgem}.\n",
    "Tem idade: {personagem.idade} e genero: {personagem.genero}.\n",
    "objetivo: {personagem.objetivo}.\n",
    "habilidades: {personagem.habilidades}.\n",
    "fraquezas: {personagem.fraquezas}.\n",
    "\"\"\", Historia)\n",
    "# Use instantiated objects.\n",
    "historia: list[Historia] = response.parsed\n",
    "print(historia)"
   ]
  },
  {
   "cell_type": "code",
   "execution_count": 14,
   "metadata": {},
   "outputs": [
    {
     "name": "stdout",
     "output_type": "stream",
     "text": [
      "História: Elara Meadowlight, uma Guardiã da Floresta de 27 anos, personifica a beleza serena e a força indomável de Silverwood. Desde tenra idade, seus cabelos cor de mel e olhos verdes vibrantes refletiam a própria essência da floresta que ela jurou proteger. Treinada nas antigas tradições élficas de arquearia, Elara se tornou uma mestre arqueira, suas flechas encontrando o alvo com precisão infalível. Sua conexão com a natureza se estendia além do combate; ela possuía o dom da Cura da Natureza, capaz de curar ferimentos e restaurar a vitalidade da terra, e se comunicava fluentemente com os animais, seus leais aliados na defesa da floresta.\n",
      "\n",
      "Crescendo em harmonia com o sussurro das árvores e o murmúrio dos rios, Elara desenvolveu uma profunda fé na bondade inerente a todas as criaturas. Essa confiança, entretanto, era tanto uma força quanto uma fraqueza. Sua ingenuidade a deixava vulnerável à manipulação, e sua aversão ao derramamento de sangue a impedia de tomar decisões difíceis. Além disso, como muitos de seu povo, Elara sofria com a mera presença de Ferro Frio, que enfraquecia seus poderes e a deixava fisicamente debilitada.\n",
      "\n",
      "Recentemente, uma sombra sinistra começou a se espalhar por Silverwood: a corrupção da Necromancia. Criaturas antes pacíficas foram retorcidas em horrores profanos, e a terra fértil começou a apodrecer sob a influência maligna da Magia Negra. O objetivo de Elara tornou-se claro: proteger Silverwood da crescente ameaça necromântica a todo custo. Sua jornada a levará a confrontar necromantes sombrios, desvendar segredos antigos e testar os limites de sua fé, força e lealdade. Elara precisará superar sua ingenuidade e aprender a fazer escolhas difíceis se quiser salvar a floresta que ama, mesmo que isso signifique sujar suas mãos com o sangue daqueles que antes eram parte da beleza de Silverwood.\n",
      "Personagem: Elara Meadowlight\n",
      "Classe: Guardiã da Floresta\n",
      "Cidade de origem: Silverwood\n",
      "Idade: 27\n",
      "Genero: Feminino\n"
     ]
    }
   ],
   "source": [
    "# vamos imprimir os resultados de forma mais organizada\n",
    "print(f\"História: {historia.historia}\")\n",
    "print(f\"Personagem: {personagem.nome}\")\n",
    "print(f\"Classe: {personagem.classe}\")\n",
    "print(f\"Cidade de origem: {personagem.cidade_de_origgem}\")\n",
    "print(f\"Idade: {personagem.idade}\")\n",
    "print(f\"Genero: {personagem.genero}\")"
   ]
  }
 ],
 "metadata": {
  "kernelspec": {
   "display_name": ".venv",
   "language": "python",
   "name": "python3"
  },
  "language_info": {
   "codemirror_mode": {
    "name": "ipython",
    "version": 3
   },
   "file_extension": ".py",
   "mimetype": "text/x-python",
   "name": "python",
   "nbconvert_exporter": "python",
   "pygments_lexer": "ipython3",
   "version": "3.12.4"
  }
 },
 "nbformat": 4,
 "nbformat_minor": 2
}
